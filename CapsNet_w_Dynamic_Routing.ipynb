{
 "cells": [
  {
   "cell_type": "markdown",
   "metadata": {
    "colab_type": "text",
    "id": "xIFKt0XFG0AQ"
   },
   "source": [
    "# Capsule Network with Dynamic Routing"
   ]
  },
  {
   "cell_type": "markdown",
   "metadata": {
    "colab_type": "text",
    "id": "Cw3CqNMXG8-h"
   },
   "source": [
    "##References\n",
    "####Dynamic Routing Between Capsules, Sara Sabour et al.    https://arxiv.org/pdf/1710.09829.pdf\n",
    "#### Capsule Networks (CapsNets), Aurélien Geron     https://github.com/ageron/handson-ml/blob/master/extra_capsnets.ipynb\n",
    "####CapsuleNet on MNIST,  Kevin Mader      https://www.kaggle.com/kmader/capsulenet-on-mnist"
   ]
  },
  {
   "cell_type": "code",
   "execution_count": 1,
   "metadata": {
    "colab": {
     "base_uri": "https://localhost:8080/",
     "height": 34
    },
    "colab_type": "code",
    "id": "rrQQMgEKFvSr",
    "outputId": "fd4e34fd-6e2e-47a7-ac63-7b8a7a721199"
   },
   "outputs": [
    {
     "name": "stderr",
     "output_type": "stream",
     "text": [
      "Using TensorFlow backend.\n"
     ]
    }
   ],
   "source": [
    "import numpy as np\n",
    "import os\n",
    "import pandas as pd\n",
    "from keras.preprocessing.image import ImageDataGenerator\n",
    "from keras import callbacks\n",
    "from keras.utils.vis_utils import plot_model\n",
    "import matplotlib.pyplot as plt\n",
    "\n",
    "import tensorflow as tf\n",
    "import keras.backend as K\n",
    "from keras import backend as K\n",
    "from keras import Sequential, models, layers\n",
    "\n",
    "import keras\n",
    "from keras.models import Model,Sequential\n",
    "from keras.datasets import mnist\n",
    "from keras.layers.advanced_activations import LeakyReLU\n",
    "from keras.optimizers import adam\n",
    "from keras.layers import Dense, Activation, Dropout, Convolution2D, Flatten, MaxPooling2D, Reshape, InputLayer, Input\n",
    "from keras.utils import to_categorical\n",
    "from keras.layers import Conv2D, MaxPooling2D\n",
    "from keras import initializers\n",
    "\n",
    "\n",
    "%matplotlib inline"
   ]
  },
  {
   "cell_type": "markdown",
   "metadata": {
    "colab_type": "text",
    "id": "Ad5E5HHiQMxN"
   },
   "source": [
    "#Defining the helper functions"
   ]
  },
  {
   "cell_type": "code",
   "execution_count": 0,
   "metadata": {
    "colab": {},
    "colab_type": "code",
    "id": "pQJr2Ya-FvS1"
   },
   "outputs": [],
   "source": [
    "def squash(vector, axis=-1, epsilon=1e-7):\n",
    "    \n",
    "    s_squared_norm = K.sum(K.square(vector), axis, keepdims=True)\n",
    "    safe_norm =  K.sqrt(s_squared_norm + epsilon)\n",
    "    squash_factor = s_squared_norm / (1.0 + s_squared_norm)\n",
    "    unit_vector = vector / safe_norm\n",
    "    \n",
    "    return squash_factor * unit_vector\n"
   ]
  },
  {
   "cell_type": "code",
   "execution_count": 0,
   "metadata": {
    "colab": {},
    "colab_type": "code",
    "id": "hRHAt4GjFvS6"
   },
   "outputs": [],
   "source": [
    "\n",
    "class mask(layers.Layer):\n",
    "    \n",
    "    def call(self, inputs, **kwargs):\n",
    "        \n",
    "        if type(inputs) is list: \n",
    "            assert len(inputs) == 2\n",
    "            inputs, mask = inputs\n",
    "            \n",
    "        else:\n",
    "            x = inputs\n",
    "            x = (x - K.max(x, axis=1, keepdims=True)) / K.epsilon()+1\n",
    "            mask = K.clip(x, min_value=0, max_value=1)\n",
    "            \n",
    "        return K.batch_dot(inputs, mask, [1,1])\n",
    "    \n",
    "    \n",
    "    def compute_output_shape(self, input_shape):\n",
    "        \n",
    "        if type(input_shape[0]) is tuple:  # true label provided\n",
    "            return tuple([None, input_shape[0][-1]])\n",
    "        else:\n",
    "            return tuple([None, input_shape[-1]])\n",
    "        "
   ]
  },
  {
   "cell_type": "code",
   "execution_count": 0,
   "metadata": {
    "colab": {},
    "colab_type": "code",
    "id": "qABPU_HGFvS_"
   },
   "outputs": [],
   "source": [
    "class length(layers.Layer):\n",
    "    \n",
    "    def call(self, inputs, **kwargs):\n",
    "        \n",
    "        x = K.sqrt(K.sum(K.square(inputs), axis = -1))\n",
    "        \n",
    "        return x\n",
    "    \n",
    "    def compute_output_shape(self, input_shape):\n",
    "        \n",
    "        return input_shape[:-1]\n",
    "    "
   ]
  },
  {
   "cell_type": "markdown",
   "metadata": {
    "colab_type": "text",
    "id": "Aox7V15OQFaH"
   },
   "source": [
    "#Defining the Primary Capsules layers"
   ]
  },
  {
   "cell_type": "code",
   "execution_count": 0,
   "metadata": {
    "colab": {},
    "colab_type": "code",
    "id": "uJJYm4kvFvTE"
   },
   "outputs": [],
   "source": [
    "def primaryCaps(inputs, dim_vector, n_channels, kernel_size, strides, padding):\n",
    "    '''\n",
    "    inputs : output of first convolutional layer of shape (?x20x20x256)\n",
    "    dim_vector : the dimension of the output vector of each capsule = 8\n",
    "    n_channels : the number of different capsules = 32 \n",
    "    \n",
    "    output : output of the convultional layer reshaped to ?x1152x8 and squash function applied to it\n",
    "    \n",
    "    '''\n",
    "    \n",
    "    conv2 = Conv2D(filters=dim_vector*n_channels, kernel_size=kernel_size, strides=strides, padding=padding)(inputs)\n",
    "    out = layers.Reshape(target_shape=[-1, dim_vector])(conv2)\n",
    "    \n",
    "    return layers.Lambda(squash)(out)\n"
   ]
  },
  {
   "cell_type": "markdown",
   "metadata": {
    "colab_type": "text",
    "id": "97Z86XpdP-FG"
   },
   "source": [
    "#Defining the Digit Capsules custom layer"
   ]
  },
  {
   "cell_type": "code",
   "execution_count": 0,
   "metadata": {
    "colab": {},
    "colab_type": "code",
    "id": "1sFHYgy5FvTJ"
   },
   "outputs": [],
   "source": [
    "class digitCaps(layers.Layer):\n",
    "    \n",
    "    def __init__(self, num_capsules, dim_vector, num_routings=3,\n",
    "                 w_initializer='glorot_uniform', b_initializer='zeros', **kwargs):\n",
    "        \n",
    "        super(digitCaps, self).__init__(**kwargs)\n",
    "        self.num_capsules = num_capsules  #number of capsules in this layer :: 10\n",
    "        self.dim_vector = dim_vector #dimension of each capsule in this layer :: 16\n",
    "        self.num_routings = num_routings #number of routing loops \n",
    "        self.w_initializer = initializers.get(w_initializer) #initializer for the weights matrix\n",
    "        self.b_initializer = initializers.get(b_initializer)   #initializer for the bias matrix\n",
    "        \n",
    "    def build(self, input_shape):\n",
    "        \n",
    "        assert len(input_shape)>=3 \n",
    "        self.input_num_capsules = input_shape[1]  # 6*6*32 = 1152\n",
    "        self.input_dim_vector = input_shape[2]  # 8\n",
    "        \n",
    "        # initialize the weight matrix and add it to the build\n",
    "        # can NOT call it weights => overriding \n",
    "        self.w = self.add_weight(\n",
    "            shape=[self.input_num_capsules, self.num_capsules, self.input_dim_vector, self.dim_vector], \n",
    "            initializer='glorot_uniform', name='w')\n",
    "        \n",
    "        # initialize the bias matrix\n",
    "        self.bias = self.add_weight(shape=[1, self.input_num_capsules, self.num_capsules, 1, 1], \n",
    "                                    initializer=self.b_initializer, trainable=False, name='bias')\n",
    "        \n",
    "        self.built = True\n",
    "        \n",
    "    def call(self, inputs):\n",
    "        \n",
    "        # inputs U of shape ?x1152x8\n",
    "        # expand U to shape ?x1152x1x1x8\n",
    "        inputs_expanded = K.expand_dims(K.expand_dims(inputs, 2), 2)\n",
    "        \n",
    "        #tile U along axis 2 to become of shape ?x1152x10x1x8\n",
    "        inputs_tiled = K.tile(inputs_expanded, [1, 1, self.num_capsules, 1, 1])\n",
    "        \n",
    "        # compute U*W using tf.scan\n",
    "        inputs_hat = tf.scan(lambda a, x: K.batch_dot(x, self.w, [3,2]), elems=inputs_tiled, \n",
    "                             initializer=K.zeros([self.input_num_capsules, self.num_capsules, 1, self.dim_vector]))\n",
    "        # u-hat is of shape ?x1152x10x1x16\n",
    "        \n",
    "        \n",
    "        # Routing \n",
    "        \n",
    "        assert self.num_routings>0\n",
    "        for i in range(self.num_routings):\n",
    "            c = tf.nn.softmax(self.bias, axis=2)\n",
    "            out = squash(K.sum(c * inputs_hat, axis=1, keepdims=True))\n",
    "            \n",
    "            # since it is not necessary to calculate it for the last iteration to save time and computational power\n",
    "            if i != self.num_routings - 1:\n",
    "                self.bias = self.bias + K.sum(inputs_hat*out, axis=-1, keepdims=True)\n",
    "                \n",
    "            \n",
    "        return K.reshape(out, [-1, self.num_capsules, self.dim_vector])\n",
    "    \n",
    "    \n",
    "    def compute_output_shape(self, input_shape):\n",
    "        \n",
    "        return tuple([None, self.num_capsules, self.dim_vector])\n",
    "    "
   ]
  },
  {
   "cell_type": "markdown",
   "metadata": {
    "colab_type": "text",
    "id": "m5NYcKVwP43F"
   },
   "source": [
    "# Building the Capsule network model"
   ]
  },
  {
   "cell_type": "code",
   "execution_count": 0,
   "metadata": {
    "colab": {},
    "colab_type": "code",
    "id": "Vik4GfZrFvTP"
   },
   "outputs": [],
   "source": [
    "def capsNet(input_shape, num_classes, num_routing):\n",
    "    \n",
    "    '''\n",
    "    input_shape : shape of the input to the caps net :: ?x28x28x1\n",
    "    num_classes : number of output classes = 10\n",
    "    num_routing : number of iterations for the routing algorithm\n",
    "    \n",
    "    returns:\n",
    "    a keras model with 2 inputs : (images, labels) and 2 outputs: (capsule outputs, reconstructed images)\n",
    "    '''\n",
    "    \n",
    "    #the image input to the model\n",
    "    x = layers.Input(shape=input_shape)\n",
    "    \n",
    "    #first concolutional layer\n",
    "    conv1 = layers.Conv2D(filters=256, kernel_size=9, strides=1, activation='relu', name='conv1')(x)\n",
    "    \n",
    "    # primary capsules layer\n",
    "    prim = primaryCaps(conv1, dim_vector=8, n_channels=32, kernel_size=9, strides=2, padding='valid')\n",
    "    \n",
    "    # Digit capsules layer\n",
    "    digi = digitCaps(num_capsules=num_classes, dim_vector=16, num_routings=3)(prim)\n",
    "    \n",
    "    #apply length to the output of the digitCaps layer to replace each capsule with its length\n",
    "    caps_output = length(name='caps_output')(digi)\n",
    "    \n",
    "    #Decoder network\n",
    "    y = layers.Input(shape=(num_classes,))\n",
    "    \n",
    "    # use the true label to mask the output\n",
    "    masked = mask()([digi, y])\n",
    "    \n",
    "    x_reconstructed = layers.Dense(512, activation='relu')(masked)\n",
    "    x_reconstructed = layers.Dense(1024, activation='relu')(x_reconstructed)\n",
    "    x_reconstructed = layers.Dense(784, activation='sigmoid')(x_reconstructed)\n",
    "    x_reconstructed = layers.Reshape(target_shape=[28,28,1], name='reconstructed_output')(x_reconstructed)\n",
    "    \n",
    "    \n",
    "    return models.Model([x, y] , [caps_output, x_reconstructed])\n",
    "    "
   ]
  },
  {
   "cell_type": "markdown",
   "metadata": {
    "colab_type": "text",
    "id": "M_1bCSDvP1y_"
   },
   "source": [
    "### Define the model"
   ]
  },
  {
   "cell_type": "code",
   "execution_count": 8,
   "metadata": {
    "colab": {
     "base_uri": "https://localhost:8080/",
     "height": 726
    },
    "colab_type": "code",
    "id": "0B0lEIBsFvTU",
    "outputId": "9506ae13-4386-4566-f352-244281654858"
   },
   "outputs": [
    {
     "name": "stderr",
     "output_type": "stream",
     "text": [
      "WARNING: Logging before flag parsing goes to stderr.\n",
      "W0805 16:53:53.503797 139867361662848 deprecation_wrapper.py:119] From /usr/local/lib/python3.6/dist-packages/keras/backend/tensorflow_backend.py:74: The name tf.get_default_graph is deprecated. Please use tf.compat.v1.get_default_graph instead.\n",
      "\n",
      "W0805 16:53:53.521783 139867361662848 deprecation_wrapper.py:119] From /usr/local/lib/python3.6/dist-packages/keras/backend/tensorflow_backend.py:517: The name tf.placeholder is deprecated. Please use tf.compat.v1.placeholder instead.\n",
      "\n",
      "W0805 16:53:53.524269 139867361662848 deprecation_wrapper.py:119] From /usr/local/lib/python3.6/dist-packages/keras/backend/tensorflow_backend.py:4138: The name tf.random_uniform is deprecated. Please use tf.random.uniform instead.\n",
      "\n"
     ]
    },
    {
     "name": "stdout",
     "output_type": "stream",
     "text": [
      "__________________________________________________________________________________________________\n",
      "Layer (type)                    Output Shape         Param #     Connected to                     \n",
      "==================================================================================================\n",
      "input_1 (InputLayer)            (None, 28, 28, 1)    0                                            \n",
      "__________________________________________________________________________________________________\n",
      "conv1 (Conv2D)                  (None, 20, 20, 256)  20992       input_1[0][0]                    \n",
      "__________________________________________________________________________________________________\n",
      "conv2d_1 (Conv2D)               (None, 6, 6, 256)    5308672     conv1[0][0]                      \n",
      "__________________________________________________________________________________________________\n",
      "reshape_1 (Reshape)             (None, 1152, 8)      0           conv2d_1[0][0]                   \n",
      "__________________________________________________________________________________________________\n",
      "lambda_1 (Lambda)               (None, 1152, 8)      0           reshape_1[0][0]                  \n",
      "__________________________________________________________________________________________________\n",
      "digit_caps_1 (digitCaps)        (None, 10, 16)       1486080     lambda_1[0][0]                   \n",
      "__________________________________________________________________________________________________\n",
      "input_2 (InputLayer)            (None, 10)           0                                            \n",
      "__________________________________________________________________________________________________\n",
      "mask_1 (mask)                   (None, 16)           0           digit_caps_1[0][0]               \n",
      "                                                                 input_2[0][0]                    \n",
      "__________________________________________________________________________________________________\n",
      "dense_1 (Dense)                 (None, 512)          8704        mask_1[0][0]                     \n",
      "__________________________________________________________________________________________________\n",
      "dense_2 (Dense)                 (None, 1024)         525312      dense_1[0][0]                    \n",
      "__________________________________________________________________________________________________\n",
      "dense_3 (Dense)                 (None, 784)          803600      dense_2[0][0]                    \n",
      "__________________________________________________________________________________________________\n",
      "caps_output (length)            (None, 10)           0           digit_caps_1[0][0]               \n",
      "__________________________________________________________________________________________________\n",
      "reconstructed_output (Reshape)  (None, 28, 28, 1)    0           dense_3[0][0]                    \n",
      "==================================================================================================\n",
      "Total params: 8,153,360\n",
      "Trainable params: 8,141,840\n",
      "Non-trainable params: 11,520\n",
      "__________________________________________________________________________________________________\n"
     ]
    }
   ],
   "source": [
    "caps_model = capsNet(input_shape=[28,28,1], num_classes=10, num_routing=3)\n",
    "\n",
    "caps_model.summary()"
   ]
  },
  {
   "cell_type": "markdown",
   "metadata": {
    "colab_type": "text",
    "id": "DdLVDUw0PVoF"
   },
   "source": [
    "# The margin loss\n",
    "####Defining the margin loss function that will be used to evaluate the output of the encoder portion of the model"
   ]
  },
  {
   "cell_type": "code",
   "execution_count": 0,
   "metadata": {
    "colab": {},
    "colab_type": "code",
    "id": "x_8mr418FvTb"
   },
   "outputs": [],
   "source": [
    "def margin_loss(y_true, y_pred):\n",
    "    \n",
    "    L = y_true * K.square(K.maximum(0., 0.9 - y_pred)) + \\\n",
    "        0.5 * (1 - y_true) * K.square(K.maximum(0., y_pred - 0.1))\n",
    "\n",
    "    return K.mean(K.sum(L, 1))"
   ]
  },
  {
   "cell_type": "markdown",
   "metadata": {
    "colab_type": "text",
    "id": "WNylwFWaPTfE"
   },
   "source": [
    "# Load the mnist dataset"
   ]
  },
  {
   "cell_type": "code",
   "execution_count": 10,
   "metadata": {
    "colab": {
     "base_uri": "https://localhost:8080/",
     "height": 34
    },
    "colab_type": "code",
    "id": "LZXQpMcxFvTh",
    "outputId": "7538d892-a7f8-4bb3-fa61-1cc602efcd42"
   },
   "outputs": [
    {
     "name": "stdout",
     "output_type": "stream",
     "text": [
      "(60000, 28, 28, 1) (60000, 10) (10000, 28, 28, 1) (10000, 10)\n"
     ]
    }
   ],
   "source": [
    "from keras.datasets import mnist\n",
    "\n",
    "def load_data():\n",
    "    \n",
    "    (x_train, y_train), (x_test, y_test) = mnist.load_data()\n",
    "    \n",
    "    x_train = (x_train.astype(np.float32) - 127.5)/127.5\n",
    "    x_test = (x_test.astype(np.float32) - 127.5)/127.5\n",
    "    \n",
    "    x_train = x_train.reshape(-1,28,28,1)\n",
    "    x_test = x_test.reshape(-1,28,28,1)\n",
    "    \n",
    "    y_train = to_categorical(y_train.astype('float32'))\n",
    "    y_test = to_categorical(y_test.astype('float32'))\n",
    "    \n",
    "    return (x_train, y_train, x_test, y_test)\n",
    "\n",
    "\n",
    "(x_train, y_train,x_test, y_test)=load_data()\n",
    "\n",
    "print(x_train.shape, y_train.shape, x_test.shape, y_test.shape)"
   ]
  },
  {
   "cell_type": "markdown",
   "metadata": {
    "colab_type": "text",
    "id": "3GszRPzrPNCp"
   },
   "source": [
    "#Training the model\n",
    "####using image augmentation"
   ]
  },
  {
   "cell_type": "code",
   "execution_count": 0,
   "metadata": {
    "colab": {},
    "colab_type": "code",
    "id": "VAcAI592FvTn"
   },
   "outputs": [],
   "source": [
    "def train(model, data, batch_size=64 , num_epochs=1, epoch_size_frac=1.0):\n",
    "    \n",
    "    '''\n",
    "    model : the capsnet model\n",
    "    data : tuple containing ((x_train, y_train) , (x_test, y_test))\n",
    "    \n",
    "    returns:\n",
    "    a trained model\n",
    "    '''\n",
    "    # unpack the data \n",
    "    (x_train, y_train), (x_test, y_test) = data\n",
    "    \n",
    "    # callbacks\n",
    "    log = callbacks.CSVLogger('log.csv')\n",
    "    checkpoint = callbacks.ModelCheckpoint('weights-{epoch:02d}.h5', save_best_only=True, save_weights_only=True,verbose=1)\n",
    "    lr_decay = callbacks.LearningRateScheduler(schedule=lambda epoch: 0.001 * np.exp(-epoch / 10.))\n",
    "    \n",
    "    # compile the model\n",
    "    model.compile(optimizer='adam',\n",
    "                  loss=[margin_loss, 'mse'],\n",
    "                  loss_weights=[1., 0.0005],\n",
    "                  metrics={'caps_output': 'accuracy'})\n",
    "    \n",
    "    # for Training with data augmentation must create a function to give the fit_generator\n",
    "    def img_gen(x, y, batch_size, shift_fraction=0.):\n",
    "        train_datagen = ImageDataGenerator(width_shift_range=shift_fraction, height_shift_range=shift_fraction)\n",
    "        generator = train_datagen.flow(x, y, batch_size=batch_size)\n",
    "        while 1:\n",
    "            x_batch, y_batch = generator.next()\n",
    "            yield ([x_batch, y_batch], [y_batch, x_batch])\n",
    "            \n",
    "    \n",
    "    # Fit model using fit_generator and the previous image augmentation function as the generator function\n",
    "    model.fit_generator(generator=img_gen(x_train, y_train, batch_size, 0.1), \n",
    "                        steps_per_epoch=int(epoch_size_frac*y_train.shape[0] / batch_size), epochs=num_epochs, \n",
    "                        validation_data=[[x_test, y_test], [y_test, x_test]],\n",
    "                        callbacks=[log, checkpoint, lr_decay])\n",
    "    \n",
    "    model.save_weights('trained_model.h5')\n",
    "    print('Trained model saved to \\'trained_model.h5\\'')\n",
    "\n",
    "    return model\n"
   ]
  },
  {
   "cell_type": "code",
   "execution_count": 12,
   "metadata": {
    "colab": {
     "base_uri": "https://localhost:8080/",
     "height": 1000
    },
    "colab_type": "code",
    "id": "P05L2AFzFvTs",
    "outputId": "ddd064ea-4540-4a71-ad93-efc8446703a6"
   },
   "outputs": [
    {
     "name": "stderr",
     "output_type": "stream",
     "text": [
      "W0805 16:53:54.288207 139867361662848 deprecation_wrapper.py:119] From /usr/local/lib/python3.6/dist-packages/keras/optimizers.py:790: The name tf.train.Optimizer is deprecated. Please use tf.compat.v1.train.Optimizer instead.\n",
      "\n",
      "W0805 16:53:54.592029 139867361662848 deprecation.py:323] From /usr/local/lib/python3.6/dist-packages/tensorflow/python/ops/math_grad.py:1250: add_dispatch_support.<locals>.wrapper (from tensorflow.python.ops.array_ops) is deprecated and will be removed in a future version.\n",
      "Instructions for updating:\n",
      "Use tf.where in 2.0, which has the same broadcast rule as np.where\n",
      "W0805 16:53:55.132201 139867361662848 deprecation_wrapper.py:119] From /usr/local/lib/python3.6/dist-packages/keras/backend/tensorflow_backend.py:986: The name tf.assign_add is deprecated. Please use tf.compat.v1.assign_add instead.\n",
      "\n",
      "W0805 16:53:55.281827 139867361662848 deprecation_wrapper.py:119] From /usr/local/lib/python3.6/dist-packages/keras/backend/tensorflow_backend.py:973: The name tf.assign is deprecated. Please use tf.compat.v1.assign instead.\n",
      "\n"
     ]
    },
    {
     "name": "stdout",
     "output_type": "stream",
     "text": [
      "Epoch 1/15\n",
      "234/234 [==============================] - 96s 410ms/step - loss: 0.1598 - caps_output_loss: 0.1591 - reconstructed_output_loss: 1.3725 - caps_output_acc: 0.8314 - val_loss: 0.0491 - val_caps_output_loss: 0.0486 - val_reconstructed_output_loss: 0.9294 - val_caps_output_acc: 0.9620\n",
      "\n",
      "Epoch 00001: val_loss improved from inf to 0.04909, saving model to weights-01.h5\n",
      "Epoch 2/15\n",
      "234/234 [==============================] - 91s 390ms/step - loss: 0.0438 - caps_output_loss: 0.0434 - reconstructed_output_loss: 0.8803 - caps_output_acc: 0.9676 - val_loss: 0.0259 - val_caps_output_loss: 0.0255 - val_reconstructed_output_loss: 0.9275 - val_caps_output_acc: 0.9820\n",
      "\n",
      "Epoch 00002: val_loss improved from 0.04909 to 0.02593, saving model to weights-02.h5\n",
      "Epoch 3/15\n",
      "234/234 [==============================] - 92s 392ms/step - loss: 0.0310 - caps_output_loss: 0.0305 - reconstructed_output_loss: 0.8793 - caps_output_acc: 0.9781 - val_loss: 0.0265 - val_caps_output_loss: 0.0261 - val_reconstructed_output_loss: 0.9272 - val_caps_output_acc: 0.9820\n",
      "\n",
      "Epoch 00003: val_loss did not improve from 0.02593\n",
      "Epoch 4/15\n",
      "234/234 [==============================] - 91s 391ms/step - loss: 0.0279 - caps_output_loss: 0.0275 - reconstructed_output_loss: 0.8789 - caps_output_acc: 0.9796 - val_loss: 0.0197 - val_caps_output_loss: 0.0192 - val_reconstructed_output_loss: 0.9271 - val_caps_output_acc: 0.9890\n",
      "\n",
      "Epoch 00004: val_loss improved from 0.02593 to 0.01969, saving model to weights-04.h5\n",
      "Epoch 5/15\n",
      "234/234 [==============================] - 91s 391ms/step - loss: 0.0226 - caps_output_loss: 0.0222 - reconstructed_output_loss: 0.8789 - caps_output_acc: 0.9835 - val_loss: 0.0163 - val_caps_output_loss: 0.0159 - val_reconstructed_output_loss: 0.9270 - val_caps_output_acc: 0.9910\n",
      "\n",
      "Epoch 00005: val_loss improved from 0.01969 to 0.01634, saving model to weights-05.h5\n",
      "Epoch 6/15\n",
      "234/234 [==============================] - 92s 391ms/step - loss: 0.0196 - caps_output_loss: 0.0192 - reconstructed_output_loss: 0.8787 - caps_output_acc: 0.9861 - val_loss: 0.0164 - val_caps_output_loss: 0.0160 - val_reconstructed_output_loss: 0.9270 - val_caps_output_acc: 0.9890\n",
      "\n",
      "Epoch 00006: val_loss did not improve from 0.01634\n",
      "Epoch 7/15\n",
      "234/234 [==============================] - 196s 838ms/step - loss: 0.0177 - caps_output_loss: 0.0173 - reconstructed_output_loss: 0.8788 - caps_output_acc: 0.9870 - val_loss: 0.0167 - val_caps_output_loss: 0.0163 - val_reconstructed_output_loss: 0.9269 - val_caps_output_acc: 0.9890\n",
      "\n",
      "Epoch 00007: val_loss did not improve from 0.01634\n",
      "Epoch 8/15\n",
      "234/234 [==============================] - 312s 1s/step - loss: 0.0166 - caps_output_loss: 0.0161 - reconstructed_output_loss: 0.8788 - caps_output_acc: 0.9879 - val_loss: 0.0126 - val_caps_output_loss: 0.0121 - val_reconstructed_output_loss: 0.9269 - val_caps_output_acc: 0.9900\n",
      "\n",
      "Epoch 00008: val_loss improved from 0.01634 to 0.01257, saving model to weights-08.h5\n",
      "Epoch 9/15\n",
      "234/234 [==============================] - 311s 1s/step - loss: 0.0145 - caps_output_loss: 0.0141 - reconstructed_output_loss: 0.8789 - caps_output_acc: 0.9898 - val_loss: 0.0132 - val_caps_output_loss: 0.0128 - val_reconstructed_output_loss: 0.9269 - val_caps_output_acc: 0.9890\n",
      "\n",
      "Epoch 00009: val_loss did not improve from 0.01257\n",
      "Epoch 10/15\n",
      "234/234 [==============================] - 311s 1s/step - loss: 0.0145 - caps_output_loss: 0.0140 - reconstructed_output_loss: 0.8788 - caps_output_acc: 0.9893 - val_loss: 0.0126 - val_caps_output_loss: 0.0122 - val_reconstructed_output_loss: 0.9269 - val_caps_output_acc: 0.9930\n",
      "\n",
      "Epoch 00010: val_loss did not improve from 0.01257\n",
      "Epoch 11/15\n",
      "234/234 [==============================] - 310s 1s/step - loss: 0.0129 - caps_output_loss: 0.0124 - reconstructed_output_loss: 0.8789 - caps_output_acc: 0.9904 - val_loss: 0.0106 - val_caps_output_loss: 0.0101 - val_reconstructed_output_loss: 0.9269 - val_caps_output_acc: 0.9910\n",
      "\n",
      "Epoch 00011: val_loss improved from 0.01257 to 0.01061, saving model to weights-11.h5\n",
      "Epoch 12/15\n",
      "234/234 [==============================] - 310s 1s/step - loss: 0.0125 - caps_output_loss: 0.0120 - reconstructed_output_loss: 0.8789 - caps_output_acc: 0.9907 - val_loss: 0.0095 - val_caps_output_loss: 0.0090 - val_reconstructed_output_loss: 0.9269 - val_caps_output_acc: 0.9940\n",
      "\n",
      "Epoch 00012: val_loss improved from 0.01061 to 0.00948, saving model to weights-12.h5\n",
      "Epoch 13/15\n",
      "234/234 [==============================] - 311s 1s/step - loss: 0.0103 - caps_output_loss: 0.0098 - reconstructed_output_loss: 0.8788 - caps_output_acc: 0.9927 - val_loss: 0.0079 - val_caps_output_loss: 0.0074 - val_reconstructed_output_loss: 0.9269 - val_caps_output_acc: 0.9930\n",
      "\n",
      "Epoch 00013: val_loss improved from 0.00948 to 0.00791, saving model to weights-13.h5\n",
      "Epoch 14/15\n",
      "234/234 [==============================] - 304s 1s/step - loss: 0.0112 - caps_output_loss: 0.0107 - reconstructed_output_loss: 0.8788 - caps_output_acc: 0.9918 - val_loss: 0.0108 - val_caps_output_loss: 0.0104 - val_reconstructed_output_loss: 0.9269 - val_caps_output_acc: 0.9930\n",
      "\n",
      "Epoch 00014: val_loss did not improve from 0.00791\n",
      "Epoch 15/15\n",
      "234/234 [==============================] - 311s 1s/step - loss: 0.0098 - caps_output_loss: 0.0094 - reconstructed_output_loss: 0.8789 - caps_output_acc: 0.9928 - val_loss: 0.0112 - val_caps_output_loss: 0.0107 - val_reconstructed_output_loss: 0.9269 - val_caps_output_acc: 0.9920\n",
      "\n",
      "Epoch 00015: val_loss did not improve from 0.00791\n",
      "Trained model saved to 'trained_model.h5'\n"
     ]
    },
    {
     "data": {
      "text/plain": [
       "<keras.engine.training.Model at 0x7f351d255cf8>"
      ]
     },
     "execution_count": 12,
     "metadata": {
      "tags": []
     },
     "output_type": "execute_result"
    }
   ],
   "source": [
    "train(model=caps_model, data=((x_train, y_train), (x_test[:1000], y_test[:1000])), batch_size=128, \n",
    "      num_epochs=15 , epoch_size_frac=0.5)"
   ]
  },
  {
   "cell_type": "markdown",
   "metadata": {
    "colab_type": "text",
    "id": "9gW_JHT2PDwe"
   },
   "source": [
    "#Testing the CapsNet"
   ]
  },
  {
   "cell_type": "code",
   "execution_count": 0,
   "metadata": {
    "colab": {},
    "colab_type": "code",
    "id": "Bzj8SFhsFvT1"
   },
   "outputs": [],
   "source": [
    "def test(model, data):\n",
    "    \n",
    "    x_test, y_test = data\n",
    "    y_pred, x_recon = model.predict([x_test, y_test], batch_size=100)\n",
    "    print('-'*50)\n",
    "    print('Test acc:', np.sum(np.argmax(y_pred, 1) == np.argmax(y_test, 1))/y_test.shape[0])\n",
    "    \n",
    "    generated_images = np.concatenate([x_test[:50],x_recon[:50]])\n",
    "    generated_images = generated_images.reshape(100,28,28)\n",
    "    plt.figure(figsize=(10,10))\n",
    "    for i in range(generated_images.shape[0]):\n",
    "        plt.subplot(10, 10, i+1)\n",
    "        plt.imshow(generated_images[i], interpolation='nearest')\n",
    "        plt.axis('off')\n",
    "    plt.tight_layout()"
   ]
  },
  {
   "cell_type": "code",
   "execution_count": 16,
   "metadata": {
    "colab": {
     "base_uri": "https://localhost:8080/",
     "height": 762
    },
    "colab_type": "code",
    "id": "DzczYBbxFvT8",
    "outputId": "f61e5e13-7aa9-49c5-c0b9-1bbb44b9c4f3"
   },
   "outputs": [
    {
     "name": "stdout",
     "output_type": "stream",
     "text": [
      "--------------------------------------------------\n",
      "Test acc: 1.0\n"
     ]
    },
    {
     "data": {
      "image/png": "[encoded data removed]",
      "text/plain": [
       "<Figure size 720x720 with 100 Axes>"
      ]
     },
     "metadata": {
      "tags": []
     },
     "output_type": "display_data"
    }
   ],
   "source": [
    "test(model=caps_model, data=(x_test[:100], y_test[:100]))"
   ]
  },
  {
   "cell_type": "code",
   "execution_count": 0,
   "metadata": {
    "colab": {},
    "colab_type": "code",
    "id": "Vy-qs5Jc9tUO"
   },
   "outputs": [],
   "source": []
  }
 ],
 "metadata": {
  "accelerator": "GPU",
  "colab": {
   "name": "CapsNet w Dynamic Routing 1.ipynb",
   "provenance": [],
   "version": "0.3.2"
  },
  "kernelspec": {
   "display_name": "Python 3",
   "language": "python",
   "name": "python3"
  },
  "language_info": {
   "codemirror_mode": {
    "name": "ipython",
    "version": 3
   },
   "file_extension": ".py",
   "mimetype": "text/x-python",
   "name": "python",
   "nbconvert_exporter": "python",
   "pygments_lexer": "ipython3",
   "version": "3.7.1"
  }
 },
 "nbformat": 4,
 "nbformat_minor": 1
}
